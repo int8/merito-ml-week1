{
 "cells": [
  {
   "cell_type": "code",
   "execution_count": 3,
   "id": "d56ddb0b-d582-4b63-b51f-e7bb142a33cd",
   "metadata": {},
   "outputs": [],
   "source": [
    "import torch \n",
    "from torch import nn"
   ]
  },
  {
   "cell_type": "code",
   "execution_count": 4,
   "id": "dac943d5-d66d-4820-9110-ab9035cb9ec3",
   "metadata": {},
   "outputs": [],
   "source": [
    "class MultiLayerPerceptron(nn.Module):\n",
    "    def __init__(self):\n",
    "        super().__init__()        \n",
    "        self.mlp = nn.Sequential(\n",
    "            nn.Linear(28 * 28, 50),\n",
    "            nn.ReLU(),          \n",
    "            nn.Linear(50, 15),\n",
    "            nn.ReLU(),     \n",
    "            nn.Linear(15,1),\n",
    "            nn.Sigmoid()\n",
    "        )\n",
    "        \n",
    "    def forward(self, x):        \n",
    "        return self.mlp(x)"
   ]
  },
  {
   "cell_type": "code",
   "execution_count": 5,
   "id": "36eb044f-dc52-451c-b634-7265a95d9271",
   "metadata": {},
   "outputs": [
    {
     "name": "stdout",
     "output_type": "stream",
     "text": [
      "Downloading train-images-idx3-ubyte.gz...\n",
      "Downloading t10k-images-idx3-ubyte.gz...\n",
      "Downloading train-labels-idx1-ubyte.gz...\n",
      "Downloading t10k-labels-idx1-ubyte.gz...\n",
      "Download complete.\n",
      "Save complete.\n"
     ]
    }
   ],
   "source": [
    "\n",
    "import numpy as np\n",
    "from urllib import request\n",
    "import gzip\n",
    "import pickle\n",
    "\n",
    "import random \n",
    "def shuffle_data(x, y):\n",
    "    c = list(zip(x, y))\n",
    "    random.shuffle(c)\n",
    "    return zip(*c)\n",
    "\n",
    "filename = [\n",
    "    [\"training_images\",\"train-images-idx3-ubyte.gz\"],\n",
    "    [\"test_images\",\"t10k-images-idx3-ubyte.gz\"],\n",
    "    [\"training_labels\",\"train-labels-idx1-ubyte.gz\"],\n",
    "    [\"test_labels\",\"t10k-labels-idx1-ubyte.gz\"]\n",
    "]\n",
    "\n",
    "def download_mnist():\n",
    "    base_url = \"http://yann.lecun.com/exdb/mnist/\"\n",
    "    for name in filename:\n",
    "        print(\"Downloading \"+name[1]+\"...\")\n",
    "        request.urlretrieve(base_url+name[1], name[1])\n",
    "    print(\"Download complete.\")\n",
    "\n",
    "def save_mnist():\n",
    "    mnist = {}\n",
    "    for name in filename[:2]:\n",
    "        with gzip.open(name[1], 'rb') as f:\n",
    "            mnist[name[0]] = np.frombuffer(f.read(), np.uint8, offset=16).reshape(-1,28*28)\n",
    "    for name in filename[-2:]:\n",
    "        with gzip.open(name[1], 'rb') as f:\n",
    "            mnist[name[0]] = np.frombuffer(f.read(), np.uint8, offset=8)\n",
    "    with open(\"mnist.pkl\", 'wb') as f:\n",
    "        pickle.dump(mnist,f)\n",
    "    print(\"Save complete.\")\n",
    "\n",
    "def init():\n",
    "    download_mnist()\n",
    "    save_mnist()\n",
    "\n",
    "def preprocess(x):\n",
    "    return [y.flatten()  for y in x]\n",
    "\n",
    "\n",
    "def normalize(x):\n",
    "    mean_val = np.mean(x)\n",
    "    stdev_val = np.std(x)\n",
    "    return (x - mean_val) / stdev_val\n",
    "\n",
    "def load(n = 5000):\n",
    "    with open(\"mnist.pkl\",'rb') as f:\n",
    "        mnist = pickle.load(f)\n",
    "    return (\n",
    "        normalize(preprocess(mnist[\"training_images\"][:n]  / 255.)), \n",
    "        [x[0] for x in preprocess(mnist[\"training_labels\"][:n])], \n",
    "        normalize(preprocess(mnist[\"test_images\"][:n]  / 255.)), \n",
    "        [x[0] for x in preprocess(mnist[\"test_labels\"][:n])]\n",
    "    )\n",
    "\n",
    "init()\n",
    "\n",
    "\n"
   ]
  },
  {
   "cell_type": "code",
   "execution_count": 6,
   "id": "82354b34-9f9f-47cd-9673-4dca3827f22c",
   "metadata": {},
   "outputs": [],
   "source": [
    "x_train, y_train, x_test, y_test = load()\n",
    "x_train, y_train = zip(*[x for x in list(zip(x_train, y_train)) if x[1] == 5 or (random.random() < 0.12)])\n",
    "x_test, y_test = zip(*[x for x in list(zip(x_test, y_test)) if x[1] == 5 or (random.random() < 0.12)])"
   ]
  },
  {
   "cell_type": "code",
   "execution_count": 7,
   "id": "8a3e8141-7224-4f43-ac99-09f36a14472d",
   "metadata": {},
   "outputs": [],
   "source": [
    "# Wczytaj dane powyżej \n"
   ]
  },
  {
   "cell_type": "code",
   "execution_count": 8,
   "id": "a435e974-002b-499d-8de9-c6458fa6c076",
   "metadata": {},
   "outputs": [
    {
     "data": {
      "text/plain": [
       "(991, 983)"
      ]
     },
     "execution_count": 8,
     "metadata": {},
     "output_type": "execute_result"
    }
   ],
   "source": [
    "# TODO: \n",
    "# ile elementów zawiera x_train, x_test [len] \n",
    "len(x_train), len(x_test)"
   ]
  },
  {
   "cell_type": "code",
   "execution_count": 9,
   "id": "e71cc7d1-f8d0-4405-8121-f6b7336399ce",
   "metadata": {},
   "outputs": [
    {
     "data": {
      "text/plain": [
       "784"
      ]
     },
     "execution_count": 9,
     "metadata": {},
     "output_type": "execute_result"
    }
   ],
   "source": [
    "# TODO: \n",
    "# jaką długość mają wektory w x_train, x_test, zbadaj elementy o indeksie 0 \n",
    "len(x_train[0])"
   ]
  },
  {
   "cell_type": "code",
   "execution_count": 10,
   "id": "1947e8e5-ac6e-4342-8680-ea078f3b2327",
   "metadata": {},
   "outputs": [
    {
     "data": {
      "text/plain": [
       "<matplotlib.image.AxesImage at 0x7f1f916db430>"
      ]
     },
     "execution_count": 10,
     "metadata": {},
     "output_type": "execute_result"
    },
    {
     "data": {
      "image/png": "[encoded data removed]",
      "text/plain": [
       "<Figure size 640x480 with 1 Axes>"
      ]
     },
     "metadata": {},
     "output_type": "display_data"
    }
   ],
   "source": [
    "# TODO: \n",
    "# Zmień rozmiar przykładowego wektora na 28x28 i przypisz do zmiennej img [reshape] \n",
    "N = 19\n",
    "img = x_train[N].reshape((28,28))\n",
    "# TODO: pokaż jak wygląda img [https://matplotlib.org/stable/api/_as_gen/matplotlib.pyplot.imshow.html]\n",
    "from matplotlib import pyplot as plt \n",
    "plt.imshow(img)\n"
   ]
  },
  {
   "cell_type": "code",
   "execution_count": 11,
   "id": "fae1ba13-8449-4110-8fa2-6ec3c94f84b9",
   "metadata": {},
   "outputs": [],
   "source": [
    "# TODO: napisz funkcję która dla wejściowej listy etykiet zwraca jego binarny odpowiednik  \n",
    "# dla każdego elementu w wejściowej liście sprawdź czy jest to \"5\" - jeśli tak przypisz jej wartość \"1\" w przeciwnym razie przypisz \"0\"\n",
    "def binarize(y):\n",
    "\treturn [1 if label == 5 else 0 for label in y]"
   ]
  },
  {
   "cell_type": "code",
   "execution_count": 12,
   "id": "bc451cd2-eb0d-46e9-908b-c397d2c5895d",
   "metadata": {},
   "outputs": [],
   "source": [
    "# TODO: zbinaryzuj y_train i y_test i zapisz do y_train_bin i y_test_bin \n",
    "y_train_bin = binarize(y_train)\n",
    "y_test_bin = binarize(y_test)"
   ]
  },
  {
   "cell_type": "code",
   "execution_count": 13,
   "id": "38666c32-eeb2-4930-bb7e-941fc799a9ec",
   "metadata": {},
   "outputs": [
    {
     "name": "stdout",
     "output_type": "stream",
     "text": [
      "Starting epoch=0\n",
      "Shuffling data\n"
     ]
    },
    {
     "name": "stderr",
     "output_type": "stream",
     "text": [
      "/tmp/ipykernel_1789929/3082819677.py:23: UserWarning: Creating a tensor from a list of numpy.ndarrays is extremely slow. Please consider converting the list to a single numpy.ndarray with numpy.array() before converting to a tensor. (Triggered internally at ../torch/csrc/utils/tensor_new.cpp:275.)\n",
      "  tensor_batch_x = torch.Tensor(batch_x)\n"
     ]
    },
    {
     "name": "stdout",
     "output_type": "stream",
     "text": [
      "Starting epoch=1\n",
      "Shuffling data\n",
      "Starting epoch=2\n",
      "Shuffling data\n",
      "Starting epoch=3\n",
      "Shuffling data\n",
      "Starting epoch=4\n",
      "Shuffling data\n",
      "Starting epoch=5\n",
      "Shuffling data\n",
      "Starting epoch=6\n",
      "Shuffling data\n",
      "Starting epoch=7\n",
      "Shuffling data\n",
      "Starting epoch=8\n",
      "Shuffling data\n",
      "Starting epoch=9\n",
      "Shuffling data\n",
      "Starting epoch=10\n",
      "Shuffling data\n",
      "Starting epoch=11\n",
      "Shuffling data\n",
      "Starting epoch=12\n",
      "Shuffling data\n",
      "Starting epoch=13\n",
      "Shuffling data\n",
      "Starting epoch=14\n",
      "Shuffling data\n",
      "Starting epoch=15\n",
      "Shuffling data\n",
      "Starting epoch=16\n",
      "Shuffling data\n",
      "Starting epoch=17\n",
      "Shuffling data\n",
      "Starting epoch=18\n",
      "Shuffling data\n",
      "Starting epoch=19\n",
      "Shuffling data\n",
      "Starting epoch=20\n",
      "Shuffling data\n",
      "Starting epoch=21\n",
      "Shuffling data\n",
      "Starting epoch=22\n",
      "Shuffling data\n",
      "Starting epoch=23\n",
      "Shuffling data\n",
      "Starting epoch=24\n",
      "Shuffling data\n",
      "Starting epoch=25\n",
      "Shuffling data\n",
      "Starting epoch=26\n",
      "Shuffling data\n",
      "Starting epoch=27\n",
      "Shuffling data\n",
      "Starting epoch=28\n",
      "Shuffling data\n",
      "Starting epoch=29\n",
      "Shuffling data\n",
      "Starting epoch=30\n",
      "Shuffling data\n",
      "Starting epoch=31\n",
      "Shuffling data\n",
      "Starting epoch=32\n",
      "Shuffling data\n",
      "Starting epoch=33\n",
      "Shuffling data\n",
      "Starting epoch=34\n",
      "Shuffling data\n",
      "Starting epoch=35\n",
      "Shuffling data\n",
      "Starting epoch=36\n",
      "Shuffling data\n",
      "Starting epoch=37\n",
      "Shuffling data\n",
      "Starting epoch=38\n",
      "Shuffling data\n",
      "Starting epoch=39\n",
      "Shuffling data\n",
      "Starting epoch=40\n",
      "Shuffling data\n",
      "Starting epoch=41\n",
      "Shuffling data\n",
      "Starting epoch=42\n",
      "Shuffling data\n",
      "Starting epoch=43\n",
      "Shuffling data\n",
      "Starting epoch=44\n",
      "Shuffling data\n",
      "Starting epoch=45\n",
      "Shuffling data\n",
      "Starting epoch=46\n",
      "Shuffling data\n",
      "Starting epoch=47\n",
      "Shuffling data\n",
      "Starting epoch=48\n",
      "Shuffling data\n",
      "Starting epoch=49\n",
      "Shuffling data\n",
      "Starting epoch=50\n",
      "Shuffling data\n",
      "Starting epoch=51\n",
      "Shuffling data\n",
      "Starting epoch=52\n",
      "Shuffling data\n",
      "Starting epoch=53\n",
      "Shuffling data\n",
      "Starting epoch=54\n",
      "Shuffling data\n",
      "Starting epoch=55\n",
      "Shuffling data\n",
      "Starting epoch=56\n",
      "Shuffling data\n",
      "Starting epoch=57\n",
      "Shuffling data\n",
      "Starting epoch=58\n",
      "Shuffling data\n",
      "Starting epoch=59\n",
      "Shuffling data\n",
      "Starting epoch=60\n",
      "Shuffling data\n",
      "Starting epoch=61\n",
      "Shuffling data\n",
      "Starting epoch=62\n",
      "Shuffling data\n",
      "Starting epoch=63\n",
      "Shuffling data\n",
      "Starting epoch=64\n",
      "Shuffling data\n",
      "Starting epoch=65\n",
      "Shuffling data\n",
      "Starting epoch=66\n",
      "Shuffling data\n",
      "Starting epoch=67\n",
      "Shuffling data\n",
      "Starting epoch=68\n",
      "Shuffling data\n",
      "Starting epoch=69\n",
      "Shuffling data\n",
      "Starting epoch=70\n",
      "Shuffling data\n",
      "Starting epoch=71\n",
      "Shuffling data\n",
      "Starting epoch=72\n",
      "Shuffling data\n",
      "Starting epoch=73\n",
      "Shuffling data\n",
      "Starting epoch=74\n",
      "Shuffling data\n",
      "Starting epoch=75\n",
      "Shuffling data\n",
      "Starting epoch=76\n",
      "Shuffling data\n",
      "Starting epoch=77\n",
      "Shuffling data\n",
      "Starting epoch=78\n",
      "Shuffling data\n",
      "Starting epoch=79\n",
      "Shuffling data\n",
      "Starting epoch=80\n",
      "Shuffling data\n",
      "Starting epoch=81\n",
      "Shuffling data\n",
      "Starting epoch=82\n",
      "Shuffling data\n",
      "Starting epoch=83\n",
      "Shuffling data\n",
      "Starting epoch=84\n",
      "Shuffling data\n",
      "Starting epoch=85\n",
      "Shuffling data\n",
      "Starting epoch=86\n",
      "Shuffling data\n",
      "Starting epoch=87\n",
      "Shuffling data\n",
      "Starting epoch=88\n",
      "Shuffling data\n",
      "Starting epoch=89\n",
      "Shuffling data\n",
      "Starting epoch=90\n",
      "Shuffling data\n",
      "Starting epoch=91\n",
      "Shuffling data\n",
      "Starting epoch=92\n",
      "Shuffling data\n",
      "Starting epoch=93\n",
      "Shuffling data\n",
      "Starting epoch=94\n",
      "Shuffling data\n",
      "Starting epoch=95\n",
      "Shuffling data\n",
      "Starting epoch=96\n",
      "Shuffling data\n",
      "Starting epoch=97\n",
      "Shuffling data\n",
      "Starting epoch=98\n",
      "Shuffling data\n",
      "Starting epoch=99\n",
      "Shuffling data\n",
      "Starting epoch=100\n",
      "Shuffling data\n",
      "Starting epoch=101\n",
      "Shuffling data\n",
      "Starting epoch=102\n",
      "Shuffling data\n",
      "Starting epoch=103\n",
      "Shuffling data\n",
      "Starting epoch=104\n",
      "Shuffling data\n",
      "Starting epoch=105\n",
      "Shuffling data\n",
      "Starting epoch=106\n",
      "Shuffling data\n",
      "Starting epoch=107\n",
      "Shuffling data\n",
      "Starting epoch=108\n",
      "Shuffling data\n",
      "Starting epoch=109\n",
      "Shuffling data\n",
      "Starting epoch=110\n",
      "Shuffling data\n",
      "Starting epoch=111\n",
      "Shuffling data\n",
      "Starting epoch=112\n",
      "Shuffling data\n",
      "Starting epoch=113\n",
      "Shuffling data\n",
      "Starting epoch=114\n",
      "Shuffling data\n",
      "Starting epoch=115\n",
      "Shuffling data\n",
      "Starting epoch=116\n",
      "Shuffling data\n",
      "Starting epoch=117\n",
      "Shuffling data\n",
      "Starting epoch=118\n",
      "Shuffling data\n",
      "Starting epoch=119\n",
      "Shuffling data\n",
      "Starting epoch=120\n",
      "Shuffling data\n",
      "Starting epoch=121\n",
      "Shuffling data\n",
      "Starting epoch=122\n",
      "Shuffling data\n",
      "Starting epoch=123\n",
      "Shuffling data\n",
      "Starting epoch=124\n",
      "Shuffling data\n",
      "Starting epoch=125\n",
      "Shuffling data\n",
      "Starting epoch=126\n",
      "Shuffling data\n",
      "Starting epoch=127\n",
      "Shuffling data\n",
      "Starting epoch=128\n",
      "Shuffling data\n",
      "Starting epoch=129\n",
      "Shuffling data\n",
      "Starting epoch=130\n",
      "Shuffling data\n",
      "Starting epoch=131\n",
      "Shuffling data\n",
      "Starting epoch=132\n",
      "Shuffling data\n",
      "Starting epoch=133\n",
      "Shuffling data\n",
      "Starting epoch=134\n",
      "Shuffling data\n",
      "Starting epoch=135\n",
      "Shuffling data\n",
      "Starting epoch=136\n",
      "Shuffling data\n",
      "Starting epoch=137\n",
      "Shuffling data\n",
      "Starting epoch=138\n",
      "Shuffling data\n",
      "Starting epoch=139\n",
      "Shuffling data\n",
      "Starting epoch=140\n",
      "Shuffling data\n",
      "Starting epoch=141\n",
      "Shuffling data\n",
      "Starting epoch=142\n",
      "Shuffling data\n",
      "Starting epoch=143\n",
      "Shuffling data\n",
      "Starting epoch=144\n",
      "Shuffling data\n",
      "Starting epoch=145\n",
      "Shuffling data\n",
      "Starting epoch=146\n",
      "Shuffling data\n",
      "Starting epoch=147\n",
      "Shuffling data\n",
      "Starting epoch=148\n",
      "Shuffling data\n",
      "Starting epoch=149\n",
      "Shuffling data\n"
     ]
    }
   ],
   "source": [
    "# training loop with test set bce_loss\n",
    "\n",
    "model = MultiLayerPerceptron()\n",
    "\n",
    "bce_loss = torch.nn.BCELoss() \n",
    "losses = []\n",
    "test_losses = [] \n",
    "batch_size = 256\n",
    "adam_optimizer = torch.optim.Adam(model.parameters())\n",
    "nr_of_epochs = 150\n",
    "\n",
    "for epoch in range(nr_of_epochs):\n",
    "    print(f\"Starting {epoch=}\")\n",
    "    print(f\"Shuffling data\")\n",
    "    x, y = shuffle_data(x_train,y_train_bin)\n",
    "    current_index = 0 \n",
    "    while current_index < len(x_train):\n",
    "\n",
    "        # x, y\n",
    "        batch_x = x[current_index:(current_index + batch_size)] \n",
    "        batch_y = y[current_index:(current_index + batch_size)]\n",
    "         \n",
    "        tensor_batch_x = torch.Tensor(batch_x)\n",
    "        tensor_batch_y = torch.Tensor(batch_y).reshape(-1, 1) # target \n",
    "\n",
    "        x_test_tensor = torch.Tensor(x_test)\n",
    "        y_test_tensor = torch.Tensor(y_test_bin).reshape(-1,1)\n",
    "        \n",
    "        test_loss = bce_loss(model.forward(x_test_tensor), y_test_tensor)\n",
    "        test_losses.append(float(test_loss.detach().numpy()))\n",
    "        \n",
    "        pred = model.forward(tensor_batch_x) # TODO [model forward tensor]  # m(input) [pred]\n",
    "        loss = bce_loss(pred, tensor_batch_y)\n",
    "\n",
    "        # Backpropagation\n",
    "        loss.backward()\n",
    "        adam_optimizer.step()\n",
    "        adam_optimizer.zero_grad()\n",
    "        \n",
    "        current_index += batch_size\n",
    "        losses.append(float(loss.detach().numpy()))\n",
    "    \n"
   ]
  },
  {
   "cell_type": "code",
   "execution_count": 14,
   "id": "1317d2d7-c6e5-47d9-91d8-60f942c3ff50",
   "metadata": {},
   "outputs": [
    {
     "data": {
      "text/plain": [
       "<matplotlib.legend.Legend at 0x7f1f7acdc520>"
      ]
     },
     "execution_count": 14,
     "metadata": {},
     "output_type": "execute_result"
    },
    {
     "data": {
      "image/png": "[encoded data removed]",
      "text/plain": [
       "<Figure size 640x480 with 1 Axes>"
      ]
     },
     "metadata": {},
     "output_type": "display_data"
    }
   ],
   "source": [
    "# TODO: Pokaż jak loss zmienia się w czasie\n",
    "import pandas as pd \n",
    "pd.Series(losses).plot(label='train')\n",
    "pd.Series(test_losses).plot(label='test')\n",
    "plt.legend()"
   ]
  },
  {
   "cell_type": "code",
   "execution_count": 18,
   "id": "9a4b84ef-d378-4aa6-8378-756eea6a7fbd",
   "metadata": {},
   "outputs": [
    {
     "data": {
      "text/plain": [
       "tensor([1.0000], grad_fn=<SigmoidBackward0>)"
      ]
     },
     "execution_count": 18,
     "metadata": {},
     "output_type": "execute_result"
    },
    {
     "data": {
      "image/png": "[encoded data removed]",
      "text/plain": [
       "<Figure size 640x480 with 1 Axes>"
      ]
     },
     "metadata": {},
     "output_type": "display_data"
    }
   ],
   "source": [
    "# TODO: spróbuj odgadanąć jaka cyfra jest w 10 elemencie zbioru testowego \n",
    "N = 27\n",
    "single_x_test = x_test[N]\n",
    "single_img = single_x_test.reshape((28,28))\n",
    "plt.imshow(single_img)\n",
    "\n",
    "model.forward(torch.Tensor(single_x_test))\n"
   ]
  },
  {
   "cell_type": "code",
   "execution_count": 19,
   "id": "acfb9234-1768-4a65-ba7a-bd82f687db74",
   "metadata": {},
   "outputs": [],
   "source": [
    "# Accuracy \n",
    "# TODO: policz ile % zbioru testowego nasz model odgaduje poprawnie \n",
    "\n",
    "def accuracy(model, x_test, y_test):\n",
    "    threshold_proba = 0.5\n",
    "    correct_count = 0 \n",
    "    for i, x_single in enumerate(x_test):\n",
    "        true_y_single = y_test[i]\n",
    "        x_tensor = torch.Tensor(x_single)\n",
    "        \n",
    "        result = model.forward(x_tensor) # wykonaj forward pass \n",
    "        probability_of_5 = result.detach().numpy()[0]\n",
    "        if probability_of_5 > threshold_proba and true_y_single == 1:\n",
    "            correct_count += 1\n",
    "            continue \n",
    "        if probability_of_5 < threshold_proba and true_y_single == 0:\n",
    "            correct_count += 1\n",
    "            continue     \n",
    "    return correct_count / len(x_test)\n"
   ]
  },
  {
   "cell_type": "code",
   "execution_count": 20,
   "id": "e17199ab-6a95-45cb-abaf-119e245528a0",
   "metadata": {},
   "outputs": [
    {
     "data": {
      "text/plain": [
       "0.943031536113937"
      ]
     },
     "execution_count": 20,
     "metadata": {},
     "output_type": "execute_result"
    }
   ],
   "source": [
    "accuracy(model, x_test, y_test_bin)"
   ]
  },
  {
   "cell_type": "code",
   "execution_count": null,
   "id": "2e562520-6161-4535-84ef-ba59d3d0fc6b",
   "metadata": {},
   "outputs": [],
   "source": []
  }
 ],
 "metadata": {
  "kernelspec": {
   "display_name": "Python 3 (ipykernel)",
   "language": "python",
   "name": "python3"
  },
  "language_info": {
   "codemirror_mode": {
    "name": "ipython",
    "version": 3
   },
   "file_extension": ".py",
   "mimetype": "text/x-python",
   "name": "python",
   "nbconvert_exporter": "python",
   "pygments_lexer": "ipython3",
   "version": "3.8.10"
  }
 },
 "nbformat": 4,
 "nbformat_minor": 5
}
